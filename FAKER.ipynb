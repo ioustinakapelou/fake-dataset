{
 "cells": [
  {
   "cell_type": "code",
   "execution_count": 273,
   "metadata": {},
   "outputs": [],
   "source": [
    "from faker import Faker\n",
    "fake=  Faker(locale='el_GR')\n",
    "import pandas as pd \n",
    "import numpy as np\n",
    "\n"
   ]
  },
  {
   "cell_type": "code",
   "execution_count": 274,
   "metadata": {},
   "outputs": [],
   "source": [
    "\n",
    "name=[]\n",
    "age=[]\n",
    "email=[]\n",
    "adress=[]\n",
    "lastdateofinvoice=[]\n",
    "totalpieclothes=[]\n",
    "totalpieshoes=[]\n",
    "timesbought=[]\n",
    "totalamclothes=[]\n",
    "totalamshoes=[]\n",
    "maxamclothes=[]\n",
    "maxamshoes=[]\n",
    "loyalty=[]\n",
    "\n",
    "\n",
    "for _ in range (100):\n",
    "    name.append(fake.name())\n",
    "for _ in range (100):\n",
    "    age.append(fake.random_int(min=18, max=85))\n",
    "for _ in range (100):\n",
    "    email.append(fake.email())\n",
    "for _ in range (100):\n",
    "    adress.append(fake.address())\n",
    "for _ in range (100):\n",
    "    lastdateofinvoice.append(fake.date_time_between_dates('-1y','now' ))\n",
    "for _ in range (100):\n",
    "    totalpieclothes.append(fake.random_int(min=100, max=200)) \n",
    "for _ in range (100):\n",
    "    totalpieshoes.append(fake.random_int(min=10, max=200))       \n",
    "for _ in range (100):\n",
    "    timesbought.append(fake.random_int(min=1, max=50))\n",
    "for _ in range (100):\n",
    "    totalamclothes.append(fake.random_int(min=200, max=5000))\n",
    "for _ in range (100):\n",
    "    totalamshoes.append(fake.random_int(min=200, max=5000))    \n",
    "for _ in range (100):\n",
    "    maxamclothes.append(fake.random_int(min=20, max=200))    \n",
    "for _ in range (100):\n",
    "    maxamshoes.append(fake.random_int(min=20, max=200))     \n",
    "for _ in range (100):\n",
    "    loyalty.append(fake.random_element(elements=(\"l\", \"nl\")))\n",
    "\n",
    "\n",
    "\n",
    "df=pd.DataFrame(zip(name,age,email,adress,lastdateofinvoice,totalpieclothes,totalpieshoes,timesbought,totalamclothes,totalamshoes,maxamclothes,maxamshoes,loyalty),columns=['name','age','email','adress','lastdateofinvoice','totalpiclothes','totalpieshoes','timesbought','totalamclothes','totalamshoes','maxamclothes','maxamshoes','loyalty'])\n",
    "   \n",
    "   \n",
    "\n",
    "\n",
    "\n",
    "    \n",
    "\n",
    "\n",
    "\n",
    "\n",
    "    \n"
   ]
  },
  {
   "cell_type": "code",
   "execution_count": 275,
   "metadata": {},
   "outputs": [],
   "source": [
    "df[['firstname', 'lastname']] = df['name'].str.split(\" \" ,n=1, expand= True)\n",
    "\n",
    "cols_to_move = ['firstname', 'lastname']\n",
    "df = df[cols_to_move + [x for x in df.columns if x not in cols_to_move]]\n",
    "df= df.drop(columns=['name'])"
   ]
  },
  {
   "cell_type": "code",
   "execution_count": 276,
   "metadata": {},
   "outputs": [],
   "source": [
    "random_indices = np.random.choice(df.index, size=15, replace=False)\n",
    "\n",
    "df.loc[random_indices, 'age'] *= -1\n",
    "\n",
    "\n"
   ]
  },
  {
   "cell_type": "code",
   "execution_count": 277,
   "metadata": {},
   "outputs": [],
   "source": [
    "random_indices = np.random.choice(df.index, size=5, replace=False)\n",
    "\n",
    "\n",
    "def random_anagram(s):\n",
    "    s_list = list(s)\n",
    "    np.random.shuffle(s_list)\n",
    "    return ''.join(s_list)\n",
    "\n",
    "\n",
    "df.loc[random_indices, 'lastname']= df.loc[random_indices, 'lastname'].apply(\n",
    "    lambda x: random_anagram(x) if isinstance(x, str) else x\n",
    ")"
   ]
  },
  {
   "cell_type": "code",
   "execution_count": 278,
   "metadata": {},
   "outputs": [],
   "source": [
    "random_indices = np.random.choice(df.index, size=5, replace=False)\n",
    "\n",
    "\n",
    "df.loc[random_indices, 'firstname'] = df.loc[random_indices, 'firstname'].apply(\n",
    "    lambda x: '-' + x[1:] if isinstance(x, str) else x\n",
    ")\n"
   ]
  },
  {
   "cell_type": "code",
   "execution_count": 279,
   "metadata": {},
   "outputs": [],
   "source": [
    "\n",
    "row_to_duplicate = 99\n",
    "df = pd.concat([df, df.loc[[row_to_duplicate]]], ignore_index=True)\n"
   ]
  },
  {
   "cell_type": "code",
   "execution_count": null,
   "metadata": {},
   "outputs": [],
   "source": []
  },
  {
   "cell_type": "code",
   "execution_count": 280,
   "metadata": {},
   "outputs": [],
   "source": [
    "df.loc[100:100, 'lastname'] = df.loc[100:100, 'lastname'].apply(lambda x: '-' + x[1:] if isinstance(x, str) else x)"
   ]
  },
  {
   "cell_type": "code",
   "execution_count": 281,
   "metadata": {},
   "outputs": [],
   "source": [
    "df['cusid'] = ['custid' + str(i) for i in range(1, len(df) + 1)]\n",
    "cols_to_move = ['cusid']\n",
    "df= df[cols_to_move + [x for x in df.columns if x not in cols_to_move]]"
   ]
  },
  {
   "cell_type": "code",
   "execution_count": 282,
   "metadata": {},
   "outputs": [],
   "source": [
    "\n",
    "random_indices = np.random.choice(df.index, size=5, replace=False)\n",
    "\n",
    "df.loc[random_indices, 'timesbought'] = 0\n",
    "\n",
    "\n"
   ]
  },
  {
   "cell_type": "code",
   "execution_count": 283,
   "metadata": {},
   "outputs": [],
   "source": [
    "random_indices = np.random.choice(df.index, size=5, replace=False)\n",
    "\n",
    "df.loc[random_indices, 'totalamclothes'] = 0"
   ]
  },
  {
   "cell_type": "code",
   "execution_count": null,
   "metadata": {},
   "outputs": [],
   "source": []
  },
  {
   "cell_type": "code",
   "execution_count": 284,
   "metadata": {},
   "outputs": [],
   "source": [
    "\n",
    "\n",
    "random_indices = np.random.choice(df.index, size=20, replace=False)\n",
    "\n",
    "df.loc[random_indices, 'lastname'] = np.nan\n",
    "\n",
    "random_indices = np.random.choice(df.index, size=15, replace=False)\n",
    "\n",
    "df.loc[random_indices, 'firstname'] = np.nan\n",
    "\n",
    "random_indices = np.random.choice(df.index, size=5, replace=False)\n",
    "\n",
    "df.loc[random_indices, 'maxamshoes'] = np.nan\n",
    "\n",
    "random_indices = np.random.choice(df.index, size=5, replace=False)\n",
    "\n",
    "df.loc[random_indices, 'totalpiclothes'] = np.nan\n",
    "\n",
    "random_indices = np.random.choice(df.index, size=5, replace=False)\n",
    "\n",
    "df.loc[random_indices, 'adress'] = np.nan\n",
    "random_indices = np.random.choice(df.index, size=5, replace=False)\n",
    "\n",
    "df.loc[random_indices, 'totalpieshoes'] = np.nan\n",
    "\n",
    "random_indices = np.random.choice(df.index, size=5, replace=False)\n",
    "\n",
    "df.loc[random_indices, 'lastdateofinvoice'] = np.nan\n",
    "\n",
    "random_indices = np.random.choice(df.index, size=5, replace=False)\n",
    "\n",
    "df.loc[random_indices, 'email'] = np.nan\n",
    "\n",
    "\n",
    "\n",
    "\n",
    "\n",
    "\n",
    "\n",
    "\n",
    "\n",
    "\n",
    "\n",
    "\n",
    "\n",
    "\n"
   ]
  },
  {
   "cell_type": "code",
   "execution_count": 285,
   "metadata": {},
   "outputs": [],
   "source": [
    "df.to_csv(\"eshop.csv\")"
   ]
  },
  {
   "cell_type": "markdown",
   "metadata": {},
   "source": []
  },
  {
   "cell_type": "code",
   "execution_count": null,
   "metadata": {},
   "outputs": [],
   "source": []
  }
 ],
 "metadata": {
  "kernelspec": {
   "display_name": ".venv",
   "language": "python",
   "name": "python3"
  },
  "language_info": {
   "codemirror_mode": {
    "name": "ipython",
    "version": 3
   },
   "file_extension": ".py",
   "mimetype": "text/x-python",
   "name": "python",
   "nbconvert_exporter": "python",
   "pygments_lexer": "ipython3",
   "version": "3.13.0"
  }
 },
 "nbformat": 4,
 "nbformat_minor": 2
}
